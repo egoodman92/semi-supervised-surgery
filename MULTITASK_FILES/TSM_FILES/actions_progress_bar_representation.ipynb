{
 "cells": [
  {
   "cell_type": "markdown",
   "metadata": {},
   "source": [
    "# the goal of this code is to:\n",
    "# video -> .csv -> loading bar"
   ]
  },
  {
   "cell_type": "code",
   "execution_count": 13,
   "metadata": {},
   "outputs": [],
   "source": [
    "import pandas as pd\n",
    "import numpy as np\n",
    "import sys\n",
    "import cv2\n",
    "\n",
    "import matplotlib\n",
    "import matplotlib.pyplot as plt\n",
    "import matplotlib.animation as animation\n",
    "from matplotlib import rcParams\n",
    "from matplotlib.ticker import MaxNLocator\n",
    "rcParams.update({'figure.autolayout': True, 'ytick.left': False, 'ytick.labelleft': False, 'font.size':24, 'xtick.bottom': False, 'xtick.labelbottom': False})\n",
    "\n",
    "from IPython.display import HTML"
   ]
  },
  {
   "cell_type": "code",
   "execution_count": 4,
   "metadata": {},
   "outputs": [],
   "source": [
    "def draw_barchart(row):\n",
    "    print(\"Exporting graphic frame\", row, end=\"\\r\")\n",
    "    row, rem = divmod(row, SECS_PER_INTERVAL*FPS)\n",
    "    rem /= FPS\n",
    "    ax.clear()\n",
    "    ax.xaxis.set_major_locator(MaxNLocator(prune='upper')) #removes label at right, which sometimes scrunches graph\n",
    "    fig.subplots_adjust(left=0,right=1,bottom=0,top=1)\n",
    "\n",
    "    data = df.iloc[:(row+1), :]\n",
    "    for i in range(0, row+1):\n",
    "        if i == row: #last one!\n",
    "            ax.barh(0, rem, left=data.at[i, \"start_seconds\"], \\\n",
    "                    color = color_dict[data.at[i, \"predicted_label\"]])\n",
    "            ax.set_xlim([0, data.at[i, \"start_seconds\"]+rem])\n",
    "            \n",
    "        else:\n",
    "            ax.barh(0, data.at[i, \"duration\"], left=data.at[i, \"start_seconds\"], \\\n",
    "                    color = color_dict[data.at[i, \"predicted_label\"]])\n",
    "\n",
    "    ax.margins(0.15)"
   ]
  },
  {
   "cell_type": "code",
   "execution_count": 9,
   "metadata": {},
   "outputs": [
    {
     "name": "stdout",
     "output_type": "stream",
     "text": [
      "Exporting graphic frame 0\r",
      "Exporting graphic frame 0\r",
      "Exporting graphic frame 1\r",
      "Exporting graphic frame 2\r"
     ]
    },
    {
     "name": "stderr",
     "output_type": "stream",
     "text": [
      "<ipython-input-4-ffdfcbd5cbbf>:14: UserWarning: Attempting to set identical left == right == 0 results in singular transformations; automatically expanding.\n",
      "  ax.set_xlim([0, data.at[i, \"start_seconds\"]+rem])\n"
     ]
    },
    {
     "name": "stdout",
     "output_type": "stream",
     "text": [
      "Created sphincterotomy10_action_graphic!\n"
     ]
    },
    {
     "data": {
      "image/png": "[encoded data removed]",
      "text/plain": [
       "<Figure size 1008x100 with 1 Axes>"
      ]
     },
     "metadata": {},
     "output_type": "display_data"
    }
   ],
   "source": [
    "###############################################################\n",
    "directory = \"/pasteur/u/egoodma/clinical_analysis/videos/SPHINCTEROTOMY/\"\n",
    "video_name = \"sphincterotomy10\"\n",
    "###############################################################\n",
    "SECS_PER_INTERVAL = 5 #could set this to 1 if you just want 5 frame resolution\n",
    "FPS = 30\n",
    "color_dict = {\"background\":(1, 1, 1, 1), \"cutting\":(1,0,0,0.5), \"suturing\":(0,1,0,0.5), \"tying\":(0,0,1,0.5)}\n",
    "\n",
    "#move to folder and choose surgery action .csv\n",
    "df = pd.read_csv(directory+video_name+\".csv\")\n",
    "\n",
    "#core code to make video\n",
    "fig, ax = plt.subplots(figsize=(14, 1.4))\n",
    "fig.subplots_adjust(left=0,right=1,bottom=0,top=1)\n",
    "\n",
    "animator = animation.FuncAnimation(fig, draw_barchart, frames=range(0, FPS*SECS_PER_INTERVAL*df.shape[0]))\n",
    "\n",
    "#use this option to view the movie in the jupyter notebook\n",
    "#HTML(animator.to_jshtml()) \n",
    "\n",
    "#use this option to save movie in current directory\n",
    "Writer = animation.writers['ffmpeg']\n",
    "writer = Writer(fps=FPS, metadata=dict(artist='Me'), bitrate=1800)\n",
    "animator.save(directory+video_name+\"_action_graphic.mp4\", writer = writer)\n",
    "print(\"Created {}_action_graphic!\".format(video_name))"
   ]
  },
  {
   "cell_type": "code",
   "execution_count": 12,
   "metadata": {},
   "outputs": [
    {
     "name": "stdout",
     "output_type": "stream",
     "text": [
      "Released /pasteur/u/egoodma/clinical_analysis/videos/SPHINCTEROTOMY/sphincterotomy10_with_action_graphic.mp4\n"
     ]
    }
   ],
   "source": [
    "surgery_vid = cv2.VideoCapture(directory+video_name+\".mp4\")\n",
    "action_vid = cv2.VideoCapture(directory+video_name+\"_action_graphic.mp4\")\n",
    "surgery_success, surgery_image = surgery_vid.read()\n",
    "action_success, action_image = action_vid.read()\n",
    "action_image = action_image[int(.2*action_image.shape[0]):int(.8*action_image.shape[0]), int(.02*action_image.shape[1]):int(.98*action_image.shape[1])]\n",
    "\n",
    "resize_tuple =(surgery_image.shape[1], int(action_image.shape[0]*surgery_image.shape[1]/action_image.shape[1]))\n",
    "video_dims = list(resize_tuple)\n",
    "video_dims[1] += surgery_image.shape[0]\n",
    "video_dims = tuple(video_dims)\n",
    "\n",
    "fps = FPS\n",
    "fourcc = cv2.VideoWriter_fourcc('F', 'M', 'P', '4')\n",
    "output_video_name = directory+video_name+\"_with_action_graphic.mp4\"\n",
    "video_tracked = cv2.VideoWriter(output_video_name, fourcc, fps, video_dims)\n",
    "\n",
    "frame_counter = 0\n",
    "\n",
    "while action_vid.isOpened():\n",
    "    action_image = cv2.resize(action_image, resize_tuple)\n",
    "    composite_image = np.concatenate((surgery_image, action_image), axis = 0)\n",
    "    video_tracked.write(composite_image)\n",
    "    \n",
    "    print(\"Stitching frame\", frame_counter, end=\"\\r\")\n",
    "    frame_counter += 1\n",
    "    \n",
    "    surgery_success, surgery_image = surgery_vid.read()\n",
    "    action_success, action_image = action_vid.read()\n",
    "\n",
    "    if not action_success or not surgery_success:\n",
    "        break\n",
    "    action_image = action_image[int(.2*action_image.shape[0]):int(.8*action_image.shape[0]), int(.02*action_image.shape[1]):int(.98*action_image.shape[1])]\n",
    "\n",
    "        \n",
    "surgery_vid.release()\n",
    "action_vid.release()\n",
    "video_tracked.release()\n",
    "print(\"Released {}\".format(output_video_name))\n",
    "\n"
   ]
  }
 ],
 "metadata": {
  "kernelspec": {
   "display_name": "Python 3",
   "language": "python",
   "name": "python3"
  },
  "language_info": {
   "codemirror_mode": {
    "name": "ipython",
    "version": 3
   },
   "file_extension": ".py",
   "mimetype": "text/x-python",
   "name": "python",
   "nbconvert_exporter": "python",
   "pygments_lexer": "ipython3",
   "version": "3.8.3"
  }
 },
 "nbformat": 4,
 "nbformat_minor": 4
}
