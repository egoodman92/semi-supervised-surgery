{
 "cells": [
  {
   "cell_type": "code",
   "execution_count": 78,
   "metadata": {},
   "outputs": [
    {
     "name": "stdout",
     "output_type": "stream",
     "text": [
      "/mnt/c/users/egood/Google Drive/postdoc/surgery/fixing-annotations/test\r\n"
     ]
    }
   ],
   "source": [
    "import os\n",
    "import cv2\n",
    "import copy\n",
    "\n",
    "\n",
    "def modify_annotation(annotation):\n",
    "    \n",
    "    image_name = annotation[0][-25:]\n",
    "    #print(\"Studying image\", image_name)\n",
    "    h, w, c = cv2.imread(image_name).shape\n",
    "    #print(\"height is {} and width is {}\".format(h, w))\n",
    "    \n",
    "    #print(\"Modifying annotation\", new_annotation)\n",
    "    item = annotation.pop(1)\n",
    "    annotation.append(label_to_class[int(item)])\n",
    "    \n",
    "    new_annotation = copy.deepcopy(annotation)\n",
    "\n",
    "\n",
    "    #print(\"Old annotation\", annotation)\n",
    "\n",
    "    new_annotation[1] = int(w * (annotation[1] - 0.5*annotation[3]))\n",
    "    new_annotation[2] = int(h * (annotation[2] - 0.5*annotation[4]))\n",
    "    new_annotation[3] = int(w * (annotation[1] + 0.5*annotation[3]))\n",
    "    new_annotation[4] = int(h * (annotation[2] + 0.5*annotation[4]))\n",
    "    \n",
    "    \n",
    "    #print(\"New annotation\", new_annotation)\n",
    "    return new_annotation\n",
    "\n",
    "!pwd\n",
    "\n",
    "label_to_class = [\"bovie\", \"forceps\", \"needledriver\", \"hand\"]\n",
    "\n",
    "\n",
    "\n",
    "list_of_annotations = []\n",
    "\n",
    "counter = 0\n",
    "\n",
    "for file in os.listdir():\n",
    "    if file.endswith(\".txt\") and not file.endswith(\"classes.txt\"):\n",
    "        #print(\"Studying file\", file)\n",
    "        f = open(file, \"r\").read()\n",
    "        f = f.split(\"\\n\")\n",
    "        \n",
    "        #print(\"File {} has {} annotations\".format(file, len(f)-1))\n",
    "        \n",
    "        if len(f) > 1:\n",
    "        \n",
    "            for i, ele in enumerate(f):\n",
    "                if len(ele) > 1:\n",
    "                    f[i] = ele.split(' ')\n",
    "                    f[i] = [float(x) for x in f[i]]\n",
    "                    f[i] = [\"/home/egoodman/new_annotations/test/\" + file[:-4] + \".jpg\"] + f[i]\n",
    "                    #print(\"Appending\", f[i])\n",
    "                    \n",
    "                    modified_annotation = modify_annotation(f[i])\n",
    "                    \n",
    "                    list_of_annotations.append(modified_annotation)\n",
    "        else:\n",
    "            counter += 1\n",
    "            #print(f)\n",
    "            list_of_annotations.append([\"/home/egoodman/new_annotations/test/\" + file[:-4] + \".jpg\"])\n",
    "            #print(counter)\n",
    "        \n",
    "                \n",
    "                \n",
    "#print(list_of_annotations)\n",
    "            \n",
    "    \n",
    "import csv\n",
    "\n",
    "with open('test_data_emmett_annotations.csv', 'w', newline='') as f:\n",
    "    writer = csv.writer(f)\n",
    "    writer.writerows(list_of_annotations)\n"
   ]
  }
 ],
 "metadata": {
  "kernelspec": {
   "display_name": "YOUTUBE",
   "language": "python",
   "name": "youtube"
  },
  "language_info": {
   "codemirror_mode": {
    "name": "ipython",
    "version": 3
   },
   "file_extension": ".py",
   "mimetype": "text/x-python",
   "name": "python",
   "nbconvert_exporter": "python",
   "pygments_lexer": "ipython3",
   "version": "3.9.2"
  }
 },
 "nbformat": 4,
 "nbformat_minor": 4
}
